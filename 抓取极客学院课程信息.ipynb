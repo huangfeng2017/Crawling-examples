{
 "cells": [
  {
   "cell_type": "code",
   "execution_count": 5,
   "metadata": {
    "collapsed": false
   },
   "outputs": [
    {
     "name": "stdout",
     "output_type": "stream",
     "text": [
      ">>>>>>>>>>>将要抓取\n"
     ]
    },
    {
     "name": "stderr",
     "output_type": "stream",
     "text": [
      "C:\\ProgramData\\Anaconda3\\lib\\site-packages\\bs4\\__init__.py:181: UserWarning: No parser was explicitly specified, so I'm using the best available HTML parser for this system (\"lxml\"). This usually isn't a problem, but if you run this code on another system, or in a different virtual environment, it may use a different parser and behave differently.\n",
      "\n",
      "The code that caused this warning is on line 193 of the file C:\\ProgramData\\Anaconda3\\lib\\runpy.py. To get rid of this warning, change code that looks like this:\n",
      "\n",
      " BeautifulSoup([your markup])\n",
      "\n",
      "to this:\n",
      "\n",
      " BeautifulSoup([your markup], \"lxml\")\n",
      "\n",
      "  markup_type=markup_type))\n"
     ]
    },
    {
     "name": "stdout",
     "output_type": "stream",
     "text": [
      ">>>>>>>>>>>将要抓取\n",
      ">>>>>>>>>>>将要抓取\n",
      ">>>>>>>>>>>将要抓取\n",
      ">>>>>>>>>>>将要抓取\n",
      ">>>>>>>>>>>将要抓取\n",
      ">>>>>>>>>>>将要抓取\n",
      ">>>>>>>>>>>将要抓取\n",
      ">>>>>>>>>>>将要抓取\n",
      ">>>>>>>>>>>将要抓取\n",
      ">>>>>>>>>>>将要抓取\n",
      ">>>>>>>>>>>将要抓取\n",
      ">>>>>>>>>>>将要抓取\n",
      ">>>>>>>>>>>将要抓取\n",
      ">>>>>>>>>>>将要抓取\n",
      ">>>>>>>>>>>将要抓取\n",
      ">>>>>>>>>>>将要抓取\n",
      ">>>>>>>>>>>将要抓取\n",
      ">>>>>>>>>>>将要抓取\n",
      ">>>>>>>>>>>将要抓取\n",
      ">>>>>>>>>>>将要抓取\n",
      "执行时间: \n"
     ]
    }
   ],
   "source": [
    "#coding=utf8\n",
    "import requests\n",
    "from bs4 import BeautifulSoup\n",
    "import sqlite3\n",
    "import datetime\n",
    "\n",
    "# 设置要抓取的总页数\n",
    "ALL_PAGE_NUMBER = 21\n",
    "\n",
    "# 保存到本地Sqlite\n",
    "def saveToSqlite(lesson_info):\n",
    "    # 获取lesson_info字典中的信息\n",
    "    name = lesson_info['name']\n",
    "    link = lesson_info['link']\n",
    "    des = lesson_info['des']\n",
    "    number = lesson_info['number']\n",
    "    time = lesson_info['time']\n",
    "    degree = lesson_info['degree']\n",
    "\n",
    "    # 连接数据库并插入相应数据\n",
    "    con = sqlite3.connect(\"lesson.db\")\n",
    "    cur = con.cursor()\n",
    "    sql = \"insert into lesson_info values ('%s', '%s','%s','%s','%s','%s')\" % (name, link, des, number, time, degree)\n",
    "    cur.execute(sql)\n",
    "    con.commit()\n",
    "\n",
    "# 抓取主函数\n",
    "def startGrab():\n",
    "    # 所有课程页面的BaseURL\n",
    "    base_url = 'http://www.jikexueyuan.com/course/?pageNum='\n",
    "    # 当前页码\n",
    "    page_number = 1\n",
    "\n",
    "    while page_number <= ALL_PAGE_NUMBER:\n",
    "        url = base_url + str(page_number)\n",
    "        print (\">>>>>>>>>>>将要抓取\"), url\n",
    "\n",
    "        # 可能因为超时等网络问题造成异常，需要捕获并重新抓取\n",
    "        try:\n",
    "            page = requests.get(url)\n",
    "        except:\n",
    "            print (\"重新抓取 \"), url\n",
    "            continue\n",
    "\n",
    "        # 使用BeautifulSoup规范化网页并生成对象\n",
    "        soup = BeautifulSoup(page.content)\n",
    "\n",
    "        lesson_data = soup.find_all(\"li\")\n",
    "        for item in lesson_data:\n",
    "            try:\n",
    "                if (item.contents[1].find(\"a\").text):\n",
    "                    name = item.contents[1].find(\"a\").text\n",
    "                    link = item.contents[1].find(\"a\").get(\"href\")\n",
    "                    des = item.contents[1].find(\"p\").text\n",
    "                    number = item.contents[1].find(\"em\", {\"class\": \"learn-number\"}).text\n",
    "                    time = item.contents[1].find(\"dd\", {\"class\": \"mar-b8\"}).contents[1].text\n",
    "                    degree = item.contents[1].find(\"dd\", {\"class\": \"zhongji\"}).contents[1].text\n",
    "                    lesson_info = {\"name\": name, \"link\": link, \"des\": des, \"number\": number, \"time\": time, \"degree\": degree}\n",
    "                    saveToSqlite(lesson_info)\n",
    "                    # print \"课程名称: \", item.contents[1].find(\"a\").text\n",
    "                    # print \"课程链接: \", item.contents[1].find(\"a\").get(\"href\")\n",
    "                    # print \"课程简介: \", item.contents[1].find(\"p\").text\n",
    "                    # print \"学习人数: \", item.contents[1].find(\"em\", {\"class\": \"learn-number\"}).text\n",
    "                    # print \"课程时间: \", item.contents[1].find(\"dd\", {\"class\": \"mar-b8\"}).contents[1].text\n",
    "                    # print \"课程难度: \", item.contents[1].find(\"dd\", {\"class\": \"zhongji\"}).contents[1].text\n",
    "                    # print \"-----------------------------------------------\"\n",
    "            except:\n",
    "                pass\n",
    "        page_number = page_number + 1\n",
    "\n",
    "\n",
    "if __name__ == '__main__':\n",
    "    starttime = datetime.datetime.now()\n",
    "    startGrab()\n",
    "    endtime = datetime.datetime.now()\n",
    "    print (\"执行时间: \"), (endtime - starttime).seconds, \"s\""
   ]
  },
  {
   "cell_type": "code",
   "execution_count": null,
   "metadata": {
    "collapsed": true
   },
   "outputs": [],
   "source": []
  }
 ],
 "metadata": {
  "kernelspec": {
   "display_name": "Python 3",
   "language": "python",
   "name": "python3"
  },
  "language_info": {
   "codemirror_mode": {
    "name": "ipython",
    "version": 3
   },
   "file_extension": ".py",
   "mimetype": "text/x-python",
   "name": "python",
   "nbconvert_exporter": "python",
   "pygments_lexer": "ipython3",
   "version": "3.6.0"
  }
 },
 "nbformat": 4,
 "nbformat_minor": 2
}
